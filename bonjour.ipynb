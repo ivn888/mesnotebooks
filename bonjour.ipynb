{
 "metadata": {
  "name": "",
  "signature": "sha256:b01a0f4cd16c66c4a539e60fb1cd5678659500b8d3b3f466d9de606294e2f0e1"
 },
 "nbformat": 3,
 "nbformat_minor": 0,
 "worksheets": []
}
