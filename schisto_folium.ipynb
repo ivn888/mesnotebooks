{
 "metadata": {
  "name": "",
  "signature": "sha256:80b046d1e7027fc2b460f6837523fddcfe7241c90a0010ea970fc2c2de66e23e"
 },
 "nbformat": 3,
 "nbformat_minor": 0,
 "worksheets": [
  {
   "cells": [
    {
     "cell_type": "code",
     "collapsed": false,
     "input": [
      "import folium\n",
      "from IPython.display import HTML"
     ],
     "language": "python",
     "metadata": {},
     "outputs": [],
     "prompt_number": 40
    },
    {
     "cell_type": "code",
     "collapsed": false,
     "input": [
      "import json\n",
      "with open('test_schisto.geojson') as f:\n",
      "    data = json.load(f)"
     ],
     "language": "python",
     "metadata": {},
     "outputs": [],
     "prompt_number": 41
    },
    {
     "cell_type": "code",
     "collapsed": false,
     "input": [
      "carte = folium.Map(location=[50.2797,5.3481],zoom_start=11)\n",
      "carte.geo_json(geo_path=\"test_schisto.geojson\")\n",
      "carte.create_map(path='test_schisto.html')"
     ],
     "language": "python",
     "metadata": {},
     "outputs": [],
     "prompt_number": 47
    },
    {
     "cell_type": "code",
     "collapsed": false,
     "input": [
      "def inline_map(map):\n",
      "    \"\"\"\n",
      "    Embeds the HTML source of the map directly into the IPython notebook.\n",
      "    \n",
      "    This method will not work if the map depends on any files (json data). Also this uses\n",
      "    the HTML5 srcdoc attribute, which may not be supported in all browsers.\n",
      "    \"\"\"\n",
      "    map._build_map()\n",
      "    return HTML('<iframe srcdoc=\"{srcdoc}\" style=\"width: 100%; height: 510px; border: none\"></iframe>'.format(srcdoc=map.HTML.replace('\"', '&quot;')))"
     ],
     "language": "python",
     "metadata": {},
     "outputs": [],
     "prompt_number": 43
    },
    {
     "cell_type": "code",
     "collapsed": false,
     "input": [
      "inline_map(carte)"
     ],
     "language": "python",
     "metadata": {},
     "outputs": [
      {
       "html": [
        "<iframe srcdoc=\"<!DOCTYPE html>\n",
        "<head>\n",
        "   <link rel=&quot;stylesheet&quot; href=&quot;http://cdn.leafletjs.com/leaflet-0.5/leaflet.css&quot; />\n",
        "   <script src=&quot;http://cdn.leafletjs.com/leaflet-0.5/leaflet.js&quot;></script>\n",
        "   <script src=&quot;http://d3js.org/d3.v3.min.js&quot; charset=&quot;utf-8&quot;></script>\n",
        "   <script src=&quot;http://d3js.org/queue.v1.min.js&quot;></script>\n",
        "   \n",
        "   \n",
        "   \n",
        "   \n",
        "<style>\n",
        "\n",
        ".legend {\n",
        "    padding: 0px 0px;\n",
        "    font: 10px sans-serif;\n",
        "    background: white;\n",
        "    background: rgba(255,255,255,0.8);\n",
        "    box-shadow: 0 0 15px rgba(0,0,0,0.2);\n",
        "    border-radius: 5px;\n",
        "}\n",
        "\n",
        ".key path {\n",
        "  display: none;\n",
        "}\n",
        "\n",
        "</style>\n",
        "</head>\n",
        "<body>\n",
        "\n",
        "        <div id=&quot;map&quot; style=&quot;width: 960px; height: 500px&quot;></div>\n",
        "\n",
        "<script>\n",
        "\n",
        "queue()\n",
        "    .defer(d3.json, 'test_schisto.geojson')\n",
        "    .await(makeMap)\n",
        "\n",
        "function makeMap(error, gjson_1) {\n",
        "\n",
        "    \n",
        "\n",
        "    \n",
        "\n",
        "    function matchKey(datapoint, key_variable){\n",
        "        return(parseFloat(key_variable[0][datapoint]));\n",
        "    };\n",
        "\n",
        "    \n",
        "\n",
        "    var map = L.map('map').setView([50.2797, 5.3481], 11);\n",
        "\n",
        "    L.tileLayer('http://{s}.tile.openstreetmap.org/{z}/{x}/{y}.png', {\n",
        "        maxZoom: 18,\n",
        "        attribution: 'Map data (c) <a href=&quot;http://openstreetmap.org&quot;>OpenStreetMap</a> contributors'\n",
        "    }).addTo(map);\n",
        "\n",
        "    \n",
        "\n",
        "    \n",
        "\n",
        "    \n",
        "\n",
        "    \n",
        "    function style_1(feature) {\n",
        "    return {\n",
        "        fillColor: 'blue',\n",
        "        weight: 1,\n",
        "        opacity: 1,\n",
        "        color: 'black',\n",
        "        fillOpacity: 0.6\n",
        "    };\n",
        "}\n",
        "    \n",
        "\n",
        "    \n",
        "    gJson_layer_1 = L.geoJson(gjson_1, {style: style_1}).addTo(map)\n",
        "    \n",
        "\n",
        "    \n",
        "\n",
        "};\n",
        "\n",
        "</script>\n",
        "\n",
        "</body>\" style=\"width: 100%; height: 510px; border: none\"></iframe>"
       ],
       "metadata": {},
       "output_type": "pyout",
       "prompt_number": 48,
       "text": [
        "<IPython.core.display.HTML at 0x106f16490>"
       ]
      }
     ],
     "prompt_number": 48
    },
    {
     "cell_type": "code",
     "collapsed": false,
     "input": [],
     "language": "python",
     "metadata": {},
     "outputs": [],
     "prompt_number": 44
    }
   ],
   "metadata": {}
  }
 ]
}
