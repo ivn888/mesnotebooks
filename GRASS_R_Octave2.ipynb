{
 "metadata": {
  "name": "",
  "signature": "sha256:f0c1c42bc938979068b591776f3eafe16da53f373114b516ecd2b0e012671849"
 },
 "nbformat": 3,
 "nbformat_minor": 0,
 "worksheets": [
  {
   "cells": [
    {
     "cell_type": "heading",
     "level": 1,
     "metadata": {},
     "source": [
      "Utilisation de GRASS GIS avec Python, R et Octave\n"
     ]
    },
    {
     "cell_type": "code",
     "collapsed": false,
     "input": [
      "from IPython.display import Image\n",
      "Image(url='http://www.portailsig.org/sites/default/files/zeropoint_logo.png')"
     ],
     "language": "python",
     "metadata": {},
     "outputs": [
      {
       "html": [
        "<img src=\"http://www.portailsig.org/sites/default/files/zeropoint_logo.png\"/>"
       ],
       "metadata": {},
       "output_type": "pyout",
       "prompt_number": 1,
       "text": [
        "<IPython.core.display.Image at 0x10288ef90>"
       ]
      }
     ],
     "prompt_number": 1
    },
    {
     "cell_type": "heading",
     "level": 1,
     "metadata": {},
     "source": [
      "d\u00e9finition des variable syst\u00e8mes pour acc\u00e9der \u00e0 GRASS GIS 6.4.x \u00e0 partir de Python"
     ]
    },
    {
     "cell_type": "code",
     "collapsed": false,
     "input": [
      "import os\n",
      "os.environ['GISBASE'] = '/Applications/GRASS-6.4.app/Contents/MacOS'\n",
      "os.environ['PYTHONPATH']=\"/Applications/GRASS-6.4.app/Contents/MacOS/etc/python/\"\n",
      "os.environ['LD_LIBRARY_PATH']=\"/Applications/GRASS-6.4.app/Contents/MacOS/lib\"\n",
      "os.environ['GIS_LOCK'] = '$$'\n",
      "os.environ['GISRC'] = '/Users/martinlaloux/.grassrc6'\n",
      "import grass.script as grass\n"
     ],
     "language": "python",
     "metadata": {},
     "outputs": [],
     "prompt_number": 7
    },
    {
     "cell_type": "markdown",
     "metadata": {},
     "source": [
      "###acc\u00e8s \u00e0 un secteur (LOCATION) et \u00e0 un jeu de donn\u00e9es (MAPSET) \n",
      "simple exemple tir\u00e9 de [GRASS GIS v. 6.4.2: la nouvelle console Python (Shell Python), exemple d'utilisation simple ou avec le module Shapely](http://www.portailsig.org/content/grass-gis-v-642-la-nouvelle-console-python-shell-python-exemple-d-utilisation-simple-ou-avec)"
     ]
    },
    {
     "cell_type": "code",
     "collapsed": false,
     "input": [
      "gisbase = os.environ['GISBASE']\n",
      "gisdb=\"/Users/martinlaloux/grassdata\"\n",
      "location=\"geol\"\n",
      "mapset=\"test_python\"\n",
      "import grass.script.setup as gsetup\n",
      "gsetup.init(gisbase, gisdb, location, mapset)"
     ],
     "language": "python",
     "metadata": {},
     "outputs": [
      {
       "metadata": {},
       "output_type": "pyout",
       "prompt_number": 10,
       "text": [
        "'/var/folders/vu/vu099NovH-KZpE5TEa83BU+++TI/-Tmp-/tmpoCupAJ'"
       ]
      }
     ],
     "prompt_number": 10
    },
    {
     "cell_type": "markdown",
     "metadata": {},
     "source": [
      " ###extraction des coordonn\u00e9es des extr\u00e9mit\u00e9s d'une ligne"
     ]
    },
    {
     "cell_type": "code",
     "collapsed": false,
     "input": [
      "debligne =grass.read_command(\"v.to.db\", flags=\"p\", map=\"testgrass\", type=\"line\", option=\"start\", units=\"meters\" , quiet=True)\n",
      "\n"
     ],
     "language": "python",
     "metadata": {},
     "outputs": [],
     "prompt_number": 11
    },
    {
     "cell_type": "code",
     "collapsed": false,
     "input": [
      "debx=float(debligne.split(\"|\")[1])\n",
      "deby=float(debligne.split(\"|\")[2])\n",
      "debz=float(debligne.split(\"|\")[3])"
     ],
     "language": "python",
     "metadata": {},
     "outputs": [],
     "prompt_number": 12
    },
    {
     "cell_type": "code",
     "collapsed": false,
     "input": [
      "finligne=grass.read_command(\"v.to.db\", flags=\"p\", map=\"testgrass\",type=\"line\", option=\"end\", units=\"meters\", quiet=True)"
     ],
     "language": "python",
     "metadata": {},
     "outputs": [],
     "prompt_number": 13
    },
    {
     "cell_type": "code",
     "collapsed": false,
     "input": [
      "finx=float(finligne.split(\"|\")[1])\n",
      "finy=float(finligne.split(\"|\")[2])\n",
      "finz=float(finligne.split(\"|\")[3])\n",
      " "
     ],
     "language": "python",
     "metadata": {},
     "outputs": [],
     "prompt_number": 14
    },
    {
     "cell_type": "markdown",
     "metadata": {},
     "source": [
      "###transformation en g\u00e9om\u00e9trie shapely"
     ]
    },
    {
     "cell_type": "code",
     "collapsed": false,
     "input": [
      "from shapely.geometry import Point"
     ],
     "language": "python",
     "metadata": {},
     "outputs": [],
     "prompt_number": 17
    },
    {
     "cell_type": "code",
     "collapsed": false,
     "input": [
      "Point1 = Point(debx,deby)"
     ],
     "language": "python",
     "metadata": {},
     "outputs": [],
     "prompt_number": 18
    },
    {
     "cell_type": "code",
     "collapsed": false,
     "input": [
      "Point2 = Point(finx,finy)"
     ],
     "language": "python",
     "metadata": {},
     "outputs": [],
     "prompt_number": 19
    },
    {
     "cell_type": "code",
     "collapsed": false,
     "input": [
      "from shapely.geometry import LineString"
     ],
     "language": "python",
     "metadata": {},
     "outputs": [],
     "prompt_number": 20
    },
    {
     "cell_type": "code",
     "collapsed": false,
     "input": [
      "line = LineString([Point1,Point2])"
     ],
     "language": "python",
     "metadata": {},
     "outputs": [],
     "prompt_number": 22
    },
    {
     "cell_type": "code",
     "collapsed": false,
     "input": [
      "%matplotlib inline"
     ],
     "language": "python",
     "metadata": {},
     "outputs": [],
     "prompt_number": 23
    },
    {
     "cell_type": "code",
     "collapsed": false,
     "input": [
      "print line"
     ],
     "language": "python",
     "metadata": {},
     "outputs": [
      {
       "output_type": "stream",
       "stream": "stdout",
       "text": [
        "LINESTRING (186139.123704173 53082.6541939769, 188199.122798505 53467.7585587325)\n"
       ]
      }
     ],
     "prompt_number": 24
    },
    {
     "cell_type": "markdown",
     "metadata": {},
     "source": [
      "### affichage de la ligne avec matplotlib"
     ]
    },
    {
     "cell_type": "code",
     "collapsed": false,
     "input": [
      "import matplotlib.pyplot as plt \n",
      "fig = plt.figure() \n",
      "ax = fig.gca() \n",
      "x, y = line.xy\n",
      "ax.plot(x, y, color='b')"
     ],
     "language": "python",
     "metadata": {},
     "outputs": [
      {
       "metadata": {},
       "output_type": "pyout",
       "prompt_number": 27,
       "text": [
        "[<matplotlib.lines.Line2D at 0x1068c4c90>]"
       ]
      },
      {
       "metadata": {},
       "output_type": "display_data",
       "png": "[encoded data removed]",
       "text": [
        "<matplotlib.figure.Figure at 0x1067a2a90>"
       ]
      }
     ],
     "prompt_number": 27
    },
    {
     "cell_type": "markdown",
     "metadata": {},
     "source": [
      "### Affichage de la ligne avec R"
     ]
    },
    {
     "cell_type": "code",
     "collapsed": false,
     "input": [
      "load_ext rpy2.ipython"
     ],
     "language": "python",
     "metadata": {},
     "outputs": [],
     "prompt_number": 28
    },
    {
     "cell_type": "code",
     "collapsed": false,
     "input": [
      "%%R -w 480 -h 480 -u px\n",
      "library(ggplot2)\n",
      "dat <- data.frame(x = rnorm(2), y = rnorm(2), \n",
      "                  lab = sample(c('deb', 'fin'), 10, replace = TRUE))\n",
      "x <- ggplot(dat, aes(x = x, y = y, color = lab)) + geom_point() + geom_line()\n",
      "print(x)"
     ],
     "language": "python",
     "metadata": {},
     "outputs": [
      {
       "metadata": {},
       "output_type": "display_data",
       "png": "[encoded data removed]"
      }
     ],
     "prompt_number": 37
    },
    {
     "cell_type": "markdown",
     "metadata": {},
     "source": [
      "### Affichage de la ligne avec Octave (clone de Matlab)"
     ]
    },
    {
     "cell_type": "code",
     "collapsed": false,
     "input": [
      "%load_ext oct2py.ipython"
     ],
     "language": "python",
     "metadata": {},
     "outputs": [],
     "prompt_number": 40
    },
    {
     "cell_type": "code",
     "collapsed": false,
     "input": [
      "%octave -i x x"
     ],
     "language": "python",
     "metadata": {},
     "outputs": [
      {
       "metadata": {},
       "output_type": "display_data",
       "text": [
        "[[ 186139.12370417  188199.12279851]]"
       ]
      },
      {
       "metadata": {},
       "output_type": "pyout",
       "prompt_number": 62,
       "text": [
        "array([[ 186139.12370417,  188199.12279851]])"
       ]
      }
     ],
     "prompt_number": 62
    },
    {
     "cell_type": "code",
     "collapsed": false,
     "input": [
      "%octave -i y y"
     ],
     "language": "python",
     "metadata": {},
     "outputs": [
      {
       "metadata": {},
       "output_type": "display_data",
       "text": [
        "[[ 53082.65419398  53467.75855873]]"
       ]
      },
      {
       "metadata": {},
       "output_type": "pyout",
       "prompt_number": 56,
       "text": [
        "array([[ 53082.65419398,  53467.75855873]])"
       ]
      }
     ],
     "prompt_number": 56
    },
    {
     "cell_type": "code",
     "collapsed": false,
     "input": [
      "%%octave -s 480,480 -f svg\n",
      "plot(x,y);"
     ],
     "language": "python",
     "metadata": {},
     "outputs": [
      {
       "metadata": {},
       "output_type": "display_data",
       "svg": [
        "<svg height=\"480px\" viewBox=\"0 0 230 230\" width=\"480px\" xmlns=\"http://www.w3.org/2000/svg\" xmlns:xlink=\"http://www.w3.org/1999/xlink\">\n",
        "<desc>Produced by GNUPLOT 4.2 patchlevel 6  </desc>\n",
        "\n",
        "<defs>\n",
        "\n",
        "\t<circle id=\"gpDot\" r=\"0.5\" stroke-width=\"0.5\"/>\n",
        "\t<path d=\"M-1,0 h2 M0,-1 v2\" id=\"gpPt0\" stroke=\"currentColor\" stroke-width=\"0.333\"/>\n",
        "\t<path d=\"M-1,-1 L1,1 M1,-1 L-1,1\" id=\"gpPt1\" stroke=\"currentColor\" stroke-width=\"0.333\"/>\n",
        "\t<path d=\"M-1,0 L1,0 M0,-1 L0,1 M-1,-1 L1,1 M-1,1 L1,-1\" id=\"gpPt2\" stroke=\"currentColor\" stroke-width=\"0.333\"/>\n",
        "\t<rect height=\"2\" id=\"gpPt3\" stroke=\"currentColor\" stroke-width=\"0.333\" width=\"2\" x=\"-1\" y=\"-1\"/>\n",
        "\t<rect fill=\"currentColor\" height=\"2\" id=\"gpPt4\" stroke=\"currentColor\" stroke-width=\"0.333\" width=\"2\" x=\"-1\" y=\"-1\"/>\n",
        "\t<circle cx=\"0\" cy=\"0\" id=\"gpPt5\" r=\"1\" stroke=\"currentColor\" stroke-width=\"0.333\"/>\n",
        "\t<use fill=\"currentColor\" id=\"gpPt6\" stroke=\"none\" xlink:href=\"#gpPt5\"/>\n",
        "\t<path d=\"M0,-1.33 L-1.33,0.67 L1.33,0.67 z\" id=\"gpPt7\" stroke=\"currentColor\" stroke-width=\"0.333\"/>\n",
        "\t<use fill=\"currentColor\" id=\"gpPt8\" stroke=\"none\" xlink:href=\"#gpPt7\"/>\n",
        "\t<use id=\"gpPt9\" stroke=\"currentColor\" transform=\"rotate(180)\" xlink:href=\"#gpPt7\"/>\n",
        "\t<use fill=\"currentColor\" id=\"gpPt10\" stroke=\"none\" xlink:href=\"#gpPt9\"/>\n",
        "\t<use id=\"gpPt11\" stroke=\"currentColor\" transform=\"rotate(45)\" xlink:href=\"#gpPt3\"/>\n",
        "\t<use fill=\"currentColor\" id=\"gpPt12\" stroke=\"none\" xlink:href=\"#gpPt11\"/>\n",
        "</defs>\n",
        "<g style=\"fill:none; color:white; stroke:currentColor; stroke-width:1.00; stroke-linecap:butt; stroke-linejoin:miter\">\n",
        "</g>\n",
        "<g style=\"fill:none; color:white; stroke:currentColor; stroke-width:0.50; stroke-linecap:butt; stroke-linejoin:miter\">\n",
        "</g>\n",
        "<g style=\"fill:none; color:black; stroke:currentColor; stroke-width:0.50; stroke-linecap:butt; stroke-linejoin:miter\">\n",
        "\t<path d=\"M53.2,206.4 L61.6,206.4 M216.4,206.4 L208.0,206.4 \"/>\n",
        "\t<g style=\"stroke:none; fill:rgb(0,0,0); font-family:{}; font-size:10.00pt; text-anchor:end\" transform=\"translate(47.6,209.4)\">\n",
        "\t\t<text><tspan>53000</tspan>\n",
        "\t\t</text>\n",
        "\t</g>\n",
        "\t<path d=\"M53.2,167.4 L61.6,167.4 M216.4,167.4 L208.0,167.4 \"/>\n",
        "\t<g style=\"stroke:none; fill:rgb(0,0,0); font-family:{}; font-size:10.00pt; text-anchor:end\" transform=\"translate(47.6,170.4)\">\n",
        "\t\t<text><tspan>53100</tspan>\n",
        "\t\t</text>\n",
        "\t</g>\n",
        "\t<path d=\"M53.2,128.3 L61.6,128.3 M216.4,128.3 L208.0,128.3 \"/>\n",
        "\t<g style=\"stroke:none; fill:rgb(0,0,0); font-family:{}; font-size:10.00pt; text-anchor:end\" transform=\"translate(47.6,131.3)\">\n",
        "\t\t<text><tspan>53200</tspan>\n",
        "\t\t</text>\n",
        "\t</g>\n",
        "\t<path d=\"M53.2,89.3 L61.6,89.3 M216.4,89.3 L208.0,89.3 \"/>\n",
        "\t<g style=\"stroke:none; fill:rgb(0,0,0); font-family:{}; font-size:10.00pt; text-anchor:end\" transform=\"translate(47.6,92.3)\">\n",
        "\t\t<text><tspan>53300</tspan>\n",
        "\t\t</text>\n",
        "\t</g>\n",
        "\t<path d=\"M53.2,50.2 L61.6,50.2 M216.4,50.2 L208.0,50.2 \"/>\n",
        "\t<g style=\"stroke:none; fill:rgb(0,0,0); font-family:{}; font-size:10.00pt; text-anchor:end\" transform=\"translate(47.6,53.2)\">\n",
        "\t\t<text><tspan>53400</tspan>\n",
        "\t\t</text>\n",
        "\t</g>\n",
        "\t<path d=\"M53.2,11.2 L61.6,11.2 M216.4,11.2 L208.0,11.2 \"/>\n",
        "\t<g style=\"stroke:none; fill:rgb(0,0,0); font-family:{}; font-size:10.00pt; text-anchor:end\" transform=\"translate(47.6,14.2)\">\n",
        "\t\t<text><tspan>53500</tspan>\n",
        "\t\t</text>\n",
        "\t</g>\n",
        "\t<path d=\"M53.2,206.4 L53.2,198.0 M53.2,11.2 L53.2,19.6 \"/>\n",
        "\t<g style=\"stroke:none; fill:rgb(0,0,0); font-family:{}; font-size:10.00pt; text-anchor:middle\" transform=\"translate(53.2,221.4)\">\n",
        "\t\t<text><tspan>186000</tspan>\n",
        "\t\t</text>\n",
        "\t</g>\n",
        "\t<path d=\"M85.8,206.4 L85.8,198.0 M85.8,11.2 L85.8,19.6 \"/>\n",
        "\t<g style=\"stroke:none; fill:rgb(0,0,0); font-family:{}; font-size:10.00pt; text-anchor:middle\" transform=\"translate(85.8,221.4)\">\n",
        "\t\t<text><tspan>186500</tspan>\n",
        "\t\t</text>\n",
        "\t</g>\n",
        "\t<path d=\"M118.5,206.4 L118.5,198.0 M118.5,11.2 L118.5,19.6 \"/>\n",
        "\t<g style=\"stroke:none; fill:rgb(0,0,0); font-family:{}; font-size:10.00pt; text-anchor:middle\" transform=\"translate(118.5,221.4)\">\n",
        "\t\t<text><tspan>187000</tspan>\n",
        "\t\t</text>\n",
        "\t</g>\n",
        "\t<path d=\"M151.1,206.4 L151.1,198.0 M151.1,11.2 L151.1,19.6 \"/>\n",
        "\t<g style=\"stroke:none; fill:rgb(0,0,0); font-family:{}; font-size:10.00pt; text-anchor:middle\" transform=\"translate(151.1,221.4)\">\n",
        "\t\t<text><tspan>187500</tspan>\n",
        "\t\t</text>\n",
        "\t</g>\n",
        "\t<path d=\"M183.8,206.4 L183.8,198.0 M183.8,11.2 L183.8,19.6 \"/>\n",
        "\t<g style=\"stroke:none; fill:rgb(0,0,0); font-family:{}; font-size:10.00pt; text-anchor:middle\" transform=\"translate(183.8,221.4)\">\n",
        "\t\t<text><tspan>188000</tspan>\n",
        "\t\t</text>\n",
        "\t</g>\n",
        "\t<path d=\"M216.4,206.4 L216.4,198.0 M216.4,11.2 L216.4,19.6 \"/>\n",
        "\t<g style=\"stroke:none; fill:rgb(0,0,0); font-family:{}; font-size:10.00pt; text-anchor:middle\" transform=\"translate(216.4,221.4)\">\n",
        "\t\t<text><tspan>188500</tspan>\n",
        "\t\t</text>\n",
        "\t</g>\n",
        "\t<path d=\"M53.2,11.2 L53.2,206.4 L216.4,206.4 L216.4,11.2 L53.2,11.2 Z \"/>\n",
        "</g>\n",
        "<g style=\"fill:none; color:red; stroke:currentColor; stroke-width:0.50; stroke-linecap:butt; stroke-linejoin:miter\">\n",
        "\t<path d=\"M62.3,174.1 L196.8,23.8 \" stroke=\"rgb(  0,   0, 255)\"/>\n",
        "</g>\n",
        "<g style=\"fill:none; color:black; stroke:currentColor; stroke-width:0.50; stroke-linecap:butt; stroke-linejoin:miter\">\n",
        "</g>\n",
        "</svg>"
       ]
      }
     ],
     "prompt_number": 60
    },
    {
     "cell_type": "markdown",
     "metadata": {},
     "source": [
      "###Traitements divers avec R"
     ]
    },
    {
     "cell_type": "code",
     "collapsed": false,
     "input": [
      "%Rpush x y"
     ],
     "language": "python",
     "metadata": {},
     "outputs": [],
     "prompt_number": 70
    },
    {
     "cell_type": "code",
     "collapsed": false,
     "input": [
      "%R lm(y~x)$coef"
     ],
     "language": "python",
     "metadata": {},
     "outputs": [
      {
       "metadata": {},
       "output_type": "pyout",
       "prompt_number": 71,
       "text": [
        "<Matrix - Python:0x121de5c68 / R:0x122224808>\n",
        "[53082.654194, NA_real_, NA_real_, 53467.758559, NA_real_, NA_real_]"
       ]
      }
     ],
     "prompt_number": 71
    },
    {
     "cell_type": "code",
     "collapsed": false,
     "input": [
      "Xr = x - x.mean(); Yr = y - y.mean()\n",
      "slope = (Yr*Yr).sum() / (Xr**2).sum()\n",
      "intercept = x.mean() - x.mean() * slope\n",
      "(intercept, slope)"
     ],
     "language": "python",
     "metadata": {},
     "outputs": [
      {
       "metadata": {},
       "output_type": "pyout",
       "prompt_number": 72,
       "text": [
        "(180627.92926224536, 0.034948039908857427)"
       ]
      }
     ],
     "prompt_number": 72
    },
    {
     "cell_type": "code",
     "collapsed": false,
     "input": [
      "%R resid(lm(y~x)); coef(lm(x~y))"
     ],
     "language": "python",
     "metadata": {},
     "outputs": [
      {
       "metadata": {},
       "output_type": "pyout",
       "prompt_number": 73,
       "text": [
        "<Matrix - Python:0x107606b48 / R:0x10f824e60>\n",
        "[186139.123704, NA_real_, NA_real_, 188199.122799, NA_real_, NA_real_]"
       ]
      }
     ],
     "prompt_number": 73
    },
    {
     "cell_type": "code",
     "collapsed": false,
     "input": [
      "b = %R a=resid(lm(y~x))"
     ],
     "language": "python",
     "metadata": {},
     "outputs": [],
     "prompt_number": 74
    },
    {
     "cell_type": "code",
     "collapsed": false,
     "input": [
      "print b"
     ],
     "language": "python",
     "metadata": {},
     "outputs": [
      {
       "output_type": "stream",
       "stream": "stdout",
       "text": [
        "  [,1] [,2]\n",
        "1    0    0\n",
        "\n"
       ]
      }
     ],
     "prompt_number": 75
    },
    {
     "cell_type": "code",
     "collapsed": false,
     "input": [
      "v1 = %R plot(x,y); print(summary(lm(y~x))); vv=mean(x)*mean(y)\n",
      "print 'v1 is:', v1\n",
      "v2 = %R mean(x)*mean(y)\n",
      "print 'v2 is:', v2"
     ],
     "language": "python",
     "metadata": {},
     "outputs": [
      {
       "metadata": {},
       "output_type": "display_data",
       "text": [
        "Response Y1 :\n",
        "\n",
        "Call:\n",
        "lm(formula = Y1 ~ x)\n",
        "\n",
        "Residuals:\n",
        "ALL 1 residuals are 0: no residual degrees of freedom!\n",
        "\n",
        "Coefficients: (2 not defined because of singularities)\n",
        "            Estimate Std. Error t value Pr(>|t|)\n",
        "(Intercept)    53083         NA      NA       NA\n",
        "x1                NA         NA      NA       NA\n",
        "x2                NA         NA      NA       NA\n",
        "\n",
        "Residual standard error: NaN on 0 degrees of freedom\n",
        "\n",
        "\n",
        "Response Y2 :\n",
        "\n",
        "Call:\n",
        "lm(formula = Y2 ~ x)\n",
        "\n",
        "Residuals:\n",
        "ALL 1 residuals are 0: no residual degrees of freedom!\n",
        "\n",
        "Coefficients: (2 not defined because of singularities)\n",
        "            Estimate Std. Error t value Pr(>|t|)\n",
        "(Intercept)    53468         NA      NA       NA\n",
        "x1                NA         NA      NA       NA\n",
        "x2                NA         NA      NA       NA\n",
        "\n",
        "Residual standard error: NaN on 0 degrees of freedom\n",
        "\n",
        "\n"
       ]
      },
      {
       "metadata": {},
       "output_type": "display_data",
       "png": "[encoded data removed]"
      },
      {
       "output_type": "stream",
       "stream": "stdout",
       "text": [
        "v1 is: [1] 9971473668\n",
        "\n",
        "v2 is: [1] 9971473668\n",
        "\n"
       ]
      }
     ],
     "prompt_number": 76
    },
    {
     "cell_type": "code",
     "collapsed": false,
     "input": [
      "\n",
      "\n"
     ],
     "language": "python",
     "metadata": {},
     "outputs": [],
     "prompt_number": 80
    },
    {
     "cell_type": "code",
     "collapsed": false,
     "input": [],
     "language": "python",
     "metadata": {},
     "outputs": []
    }
   ],
   "metadata": {}
  }
 ]
}
