{
 "metadata": {
  "name": "",
  "signature": "sha256:c5f04f319f1707cd582db7ef50f965c62c8c58a66b2c8fd6224ac4362ec008ac"
 },
 "nbformat": 3,
 "nbformat_minor": 0,
 "worksheets": [
  {
   "cells": [
    {
     "cell_type": "code",
     "collapsed": false,
     "input": [
      "%load_ext oct2py.ipython"
     ],
     "language": "python",
     "metadata": {},
     "outputs": [],
     "prompt_number": 3
    },
    {
     "cell_type": "code",
     "collapsed": false,
     "input": [
      "%%octave \n",
      "p = [-2, -1, 0, 1, 2]\n",
      "polyout(p, 'x')"
     ],
     "language": "python",
     "metadata": {},
     "outputs": [
      {
       "metadata": {},
       "output_type": "display_data",
       "text": [
        "[[-2. -1.  0.  1.  2.]]"
       ]
      }
     ],
     "prompt_number": 6
    },
    {
     "cell_type": "code",
     "collapsed": false,
     "input": [
      "%octave plot([1 2 3], [4 5 6])"
     ],
     "language": "python",
     "metadata": {},
     "outputs": [
      {
       "metadata": {},
       "output_type": "display_data",
       "png": "iVBORw0KGgoAAAANSUhEUgAAArIAAAIcCAIAAACFDdpJAAAACXBIWXMAABcRAAAXEQHKJvM/AAAA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\nAABJRU5ErkJggg==\n"
      },
      {
       "metadata": {},
       "output_type": "pyout",
       "prompt_number": 16,
       "text": [
        "5.0"
       ]
      }
     ],
     "prompt_number": 16
    },
    {
     "cell_type": "code",
     "collapsed": false,
     "input": [
      "import numpy as np"
     ],
     "language": "python",
     "metadata": {},
     "outputs": [],
     "prompt_number": 8
    },
    {
     "cell_type": "code",
     "collapsed": false,
     "input": [
      "Z = np.array([1, 4, 5, 10])"
     ],
     "language": "python",
     "metadata": {},
     "outputs": [],
     "prompt_number": 9
    },
    {
     "cell_type": "markdown",
     "metadata": {},
     "source": [
      "Objects can be passed back and forth between Octave and IPython via the -i and -o flags in line:"
     ]
    },
    {
     "cell_type": "code",
     "collapsed": false,
     "input": [
      " %octave -i Z mean(Z)"
     ],
     "language": "python",
     "metadata": {},
     "outputs": [
      {
       "metadata": {},
       "output_type": "display_data",
       "text": [
        "5.0"
       ]
      },
      {
       "metadata": {},
       "output_type": "pyout",
       "prompt_number": 10,
       "text": [
        "5.0"
       ]
      }
     ],
     "prompt_number": 10
    },
    {
     "cell_type": "code",
     "collapsed": false,
     "input": [
      "%octave -o W W = Z * mean(Z)"
     ],
     "language": "python",
     "metadata": {},
     "outputs": [
      {
       "metadata": {},
       "output_type": "display_data",
       "text": [
        "W =\n",
        "\n",
        "   5  20  25  50"
       ]
      },
      {
       "metadata": {},
       "output_type": "pyout",
       "prompt_number": 11,
       "text": [
        "5.0"
       ]
      }
     ],
     "prompt_number": 11
    },
    {
     "cell_type": "code",
     "collapsed": false,
     "input": [
      "W"
     ],
     "language": "python",
     "metadata": {},
     "outputs": [
      {
       "metadata": {},
       "output_type": "pyout",
       "prompt_number": 12,
       "text": [
        "array([[ 5, 20, 25, 50]])"
       ]
      }
     ],
     "prompt_number": 12
    },
    {
     "cell_type": "markdown",
     "metadata": {},
     "source": [
      "The size and format of output plots can be specified:"
     ]
    },
    {
     "cell_type": "code",
     "collapsed": false,
     "input": [
      " %%octave -s 600,800 -f svg\n",
      "    plot([1, 2, 3]);"
     ],
     "language": "python",
     "metadata": {},
     "outputs": [
      {
       "metadata": {},
       "output_type": "display_data",
       "svg": [
        "<svg height=\"800px\" viewBox=\"0 0 288 384\" width=\"600px\" xmlns=\"http://www.w3.org/2000/svg\" xmlns:xlink=\"http://www.w3.org/1999/xlink\">\n",
        "<desc>Produced by GNUPLOT 4.2 patchlevel 6  </desc>\n",
        "\n",
        "<defs>\n",
        "\n",
        "\t<circle id=\"gpDot\" r=\"0.5\" stroke-width=\"0.5\"/>\n",
        "\t<path d=\"M-1,0 h2 M0,-1 v2\" id=\"gpPt0\" stroke=\"currentColor\" stroke-width=\"0.333\"/>\n",
        "\t<path d=\"M-1,-1 L1,1 M1,-1 L-1,1\" id=\"gpPt1\" stroke=\"currentColor\" stroke-width=\"0.333\"/>\n",
        "\t<path d=\"M-1,0 L1,0 M0,-1 L0,1 M-1,-1 L1,1 M-1,1 L1,-1\" id=\"gpPt2\" stroke=\"currentColor\" stroke-width=\"0.333\"/>\n",
        "\t<rect height=\"2\" id=\"gpPt3\" stroke=\"currentColor\" stroke-width=\"0.333\" width=\"2\" x=\"-1\" y=\"-1\"/>\n",
        "\t<rect fill=\"currentColor\" height=\"2\" id=\"gpPt4\" stroke=\"currentColor\" stroke-width=\"0.333\" width=\"2\" x=\"-1\" y=\"-1\"/>\n",
        "\t<circle cx=\"0\" cy=\"0\" id=\"gpPt5\" r=\"1\" stroke=\"currentColor\" stroke-width=\"0.333\"/>\n",
        "\t<use fill=\"currentColor\" id=\"gpPt6\" stroke=\"none\" xlink:href=\"#gpPt5\"/>\n",
        "\t<path d=\"M0,-1.33 L-1.33,0.67 L1.33,0.67 z\" id=\"gpPt7\" stroke=\"currentColor\" stroke-width=\"0.333\"/>\n",
        "\t<use fill=\"currentColor\" id=\"gpPt8\" stroke=\"none\" xlink:href=\"#gpPt7\"/>\n",
        "\t<use id=\"gpPt9\" stroke=\"currentColor\" transform=\"rotate(180)\" xlink:href=\"#gpPt7\"/>\n",
        "\t<use fill=\"currentColor\" id=\"gpPt10\" stroke=\"none\" xlink:href=\"#gpPt9\"/>\n",
        "\t<use id=\"gpPt11\" stroke=\"currentColor\" transform=\"rotate(45)\" xlink:href=\"#gpPt3\"/>\n",
        "\t<use fill=\"currentColor\" id=\"gpPt12\" stroke=\"none\" xlink:href=\"#gpPt11\"/>\n",
        "</defs>\n",
        "<g style=\"fill:none; color:white; stroke:currentColor; stroke-width:1.00; stroke-linecap:butt; stroke-linejoin:miter\">\n",
        "</g>\n",
        "<g style=\"fill:none; color:white; stroke:currentColor; stroke-width:0.50; stroke-linecap:butt; stroke-linejoin:miter\">\n",
        "</g>\n",
        "<g style=\"fill:none; color:black; stroke:currentColor; stroke-width:0.50; stroke-linecap:butt; stroke-linejoin:miter\">\n",
        "\t<path d=\"M42.0,360.0 L50.4,360.0 M274.0,360.0 L265.6,360.0 \"/>\n",
        "\t<g style=\"stroke:none; fill:rgb(0,0,0); font-family:{}; font-size:10.00pt; text-anchor:end\" transform=\"translate(36.4,363.0)\">\n",
        "\t\t<text><tspan>1</tspan>\n",
        "\t\t</text>\n",
        "\t</g>\n",
        "\t<path d=\"M42.0,272.8 L50.4,272.8 M274.0,272.8 L265.6,272.8 \"/>\n",
        "\t<g style=\"stroke:none; fill:rgb(0,0,0); font-family:{}; font-size:10.00pt; text-anchor:end\" transform=\"translate(36.4,275.8)\">\n",
        "\t\t<text><tspan>1.5</tspan>\n",
        "\t\t</text>\n",
        "\t</g>\n",
        "\t<path d=\"M42.0,185.6 L50.4,185.6 M274.0,185.6 L265.6,185.6 \"/>\n",
        "\t<g style=\"stroke:none; fill:rgb(0,0,0); font-family:{}; font-size:10.00pt; text-anchor:end\" transform=\"translate(36.4,188.6)\">\n",
        "\t\t<text><tspan>2</tspan>\n",
        "\t\t</text>\n",
        "\t</g>\n",
        "\t<path d=\"M42.0,98.4 L50.4,98.4 M274.0,98.4 L265.6,98.4 \"/>\n",
        "\t<g style=\"stroke:none; fill:rgb(0,0,0); font-family:{}; font-size:10.00pt; text-anchor:end\" transform=\"translate(36.4,101.4)\">\n",
        "\t\t<text><tspan>2.5</tspan>\n",
        "\t\t</text>\n",
        "\t</g>\n",
        "\t<path d=\"M42.0,11.2 L50.4,11.2 M274.0,11.2 L265.6,11.2 \"/>\n",
        "\t<g style=\"stroke:none; fill:rgb(0,0,0); font-family:{}; font-size:10.00pt; text-anchor:end\" transform=\"translate(36.4,14.2)\">\n",
        "\t\t<text><tspan>3</tspan>\n",
        "\t\t</text>\n",
        "\t</g>\n",
        "\t<path d=\"M42.0,360.0 L42.0,351.6 M42.0,11.2 L42.0,19.6 \"/>\n",
        "\t<g style=\"stroke:none; fill:rgb(0,0,0); font-family:{}; font-size:10.00pt; text-anchor:middle\" transform=\"translate(42.0,375.0)\">\n",
        "\t\t<text><tspan>1</tspan>\n",
        "\t\t</text>\n",
        "\t</g>\n",
        "\t<path d=\"M100.0,360.0 L100.0,351.6 M100.0,11.2 L100.0,19.6 \"/>\n",
        "\t<g style=\"stroke:none; fill:rgb(0,0,0); font-family:{}; font-size:10.00pt; text-anchor:middle\" transform=\"translate(100.0,375.0)\">\n",
        "\t\t<text><tspan>1.5</tspan>\n",
        "\t\t</text>\n",
        "\t</g>\n",
        "\t<path d=\"M158.0,360.0 L158.0,351.6 M158.0,11.2 L158.0,19.6 \"/>\n",
        "\t<g style=\"stroke:none; fill:rgb(0,0,0); font-family:{}; font-size:10.00pt; text-anchor:middle\" transform=\"translate(158.0,375.0)\">\n",
        "\t\t<text><tspan>2</tspan>\n",
        "\t\t</text>\n",
        "\t</g>\n",
        "\t<path d=\"M216.0,360.0 L216.0,351.6 M216.0,11.2 L216.0,19.6 \"/>\n",
        "\t<g style=\"stroke:none; fill:rgb(0,0,0); font-family:{}; font-size:10.00pt; text-anchor:middle\" transform=\"translate(216.0,375.0)\">\n",
        "\t\t<text><tspan>2.5</tspan>\n",
        "\t\t</text>\n",
        "\t</g>\n",
        "\t<path d=\"M274.0,360.0 L274.0,351.6 M274.0,11.2 L274.0,19.6 \"/>\n",
        "\t<g style=\"stroke:none; fill:rgb(0,0,0); font-family:{}; font-size:10.00pt; text-anchor:middle\" transform=\"translate(274.0,375.0)\">\n",
        "\t\t<text><tspan>3</tspan>\n",
        "\t\t</text>\n",
        "\t</g>\n",
        "\t<path d=\"M42.0,11.2 L42.0,360.0 L274.0,360.0 L274.0,11.2 L42.0,11.2 Z \"/>\n",
        "</g>\n",
        "<g style=\"fill:none; color:red; stroke:currentColor; stroke-width:0.50; stroke-linecap:butt; stroke-linejoin:miter\">\n",
        "\t<path d=\"M42.0,360.0 L158.0,185.6 L274.0,11.2 \" stroke=\"rgb(  0,   0, 255)\"/>\n",
        "</g>\n",
        "<g style=\"fill:none; color:black; stroke:currentColor; stroke-width:0.50; stroke-linecap:butt; stroke-linejoin:miter\">\n",
        "</g>\n",
        "</svg>"
       ]
      }
     ],
     "prompt_number": 14
    },
    {
     "cell_type": "code",
     "collapsed": false,
     "input": [],
     "language": "python",
     "metadata": {},
     "outputs": []
    }
   ],
   "metadata": {}
  }
 ]
