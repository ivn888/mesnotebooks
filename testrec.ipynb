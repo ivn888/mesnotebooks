{
 "metadata": {
  "name": "",
  "signature": "sha256:cf25779c2c5f7f6c395761e5334e60307ee8ff5b087110e691e7ae8556a18a0c"
 },
 "nbformat": 3,
 "nbformat_minor": 0,
 "worksheets": [
  {
   "cells": [
    {
     "cell_type": "code",
     "collapsed": false,
     "input": [
      "from IPython.display import IFrame\n",
      "IFrame('http://nbviewer.ipython.org/github/mlaloux/mesnotebooks/blob/master/testrec.ipynb',1024,768)"
     ],
     "language": "python",
     "metadata": {},
     "outputs": [
      {
       "html": [
        "\n",
        "        <iframe\n",
        "            width=\"1024\"\n",
        "            height=768\"\n",
        "            src=\"http://nbviewer.ipython.org/github/mlaloux/mesnotebooks/blob/master/testrec.ipynb\"\n",
        "            frameborder=\"0\"\n",
        "            allowfullscreen\n",
        "        ></iframe>\n",
        "        "
       ],
       "metadata": {},
       "output_type": "pyout",
       "prompt_number": 2,
       "text": [
        "<IPython.lib.display.IFrame at 0x1023a9190>"
       ]
      }
     ],
     "prompt_number": 2
    },
    {
     "cell_type": "code",
     "collapsed": false,
     "input": [],
     "language": "python",
     "metadata": {},
     "outputs": []
    }
   ],
   "metadata": {}
  }
 ]
}
